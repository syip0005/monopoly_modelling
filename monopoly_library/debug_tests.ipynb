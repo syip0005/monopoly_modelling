{
 "cells": [
  {
   "cell_type": "code",
   "execution_count": 1,
   "id": "aa4058c0",
   "metadata": {},
   "outputs": [],
   "source": [
    "from monopoly_main import Monopoly, Player, Dice"
   ]
  },
  {
   "cell_type": "code",
   "execution_count": 2,
   "id": "face863d",
   "metadata": {},
   "outputs": [],
   "source": [
    "game = Monopoly('./monopoly_board_aus.txt','./monopoly_chance_aus.csv','./monopoly_community_aus.csv')"
   ]
  },
  {
   "cell_type": "code",
   "execution_count": 3,
   "id": "ce73f571",
   "metadata": {},
   "outputs": [],
   "source": [
    "scott = Player('scott', game)"
   ]
  },
  {
   "cell_type": "code",
   "execution_count": 4,
   "id": "40527c67",
   "metadata": {},
   "outputs": [
    {
     "data": {
      "text/plain": [
       "10"
      ]
     },
     "execution_count": 4,
     "metadata": {},
     "output_type": "execute_result"
    }
   ],
   "source": [
    "# test rolling double from jail\n",
    "\n",
    "# create a rigged dice to roll a double 12 and give to scott\n",
    "rigged_dice = Dice(no_dice=2,rigged=True,rigged_list=[6,6])\n",
    "scott.player_dice = rigged_dice\n",
    "\n",
    "# put scott in jail\n",
    "scott.jail_state = True\n",
    "scott.jail_turn = 0\n",
    "scott.position = 10\n",
    "\n",
    "# see what happens when we hit chance card\n",
    "\n",
    "scott.roll_turn()"
   ]
  },
  {
   "cell_type": "code",
   "execution_count": 5,
   "id": "0972da43",
   "metadata": {},
   "outputs": [
    {
     "data": {
      "text/plain": [
       "10"
      ]
     },
     "execution_count": 5,
     "metadata": {},
     "output_type": "execute_result"
    }
   ],
   "source": [
    "# testing triple double roll\n",
    "# create a rigged dice to roll a double 12 and give to scott\n",
    "rigged_dice = Dice(no_dice=2,rigged=True,rigged_list=[2,2])\n",
    "scott.player_dice = rigged_dice\n",
    "\n",
    "# put scott in jail\n",
    "scott.jail_state = False\n",
    "scott.jail_turn = 0\n",
    "scott.position = 0\n",
    "\n",
    "# see what happens when we hit chance card\n",
    "\n",
    "scott.roll_turn(2)"
   ]
  },
  {
   "cell_type": "code",
   "execution_count": null,
   "id": "f24b2466",
   "metadata": {},
   "outputs": [],
   "source": []
  }
 ],
 "metadata": {
  "kernelspec": {
   "display_name": "Python 3",
   "language": "python",
   "name": "python3"
  },
  "language_info": {
   "codemirror_mode": {
    "name": "ipython",
    "version": 3
   },
   "file_extension": ".py",
   "mimetype": "text/x-python",
   "name": "python",
   "nbconvert_exporter": "python",
   "pygments_lexer": "ipython3",
   "version": "3.8.8"
  }
 },
 "nbformat": 4,
 "nbformat_minor": 5
}
